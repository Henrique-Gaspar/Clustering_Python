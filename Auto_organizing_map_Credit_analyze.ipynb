{
  "nbformat": 4,
  "nbformat_minor": 0,
  "metadata": {
    "colab": {
      "name": "Auto-organizing map - Credit analyze",
      "provenance": []
    },
    "kernelspec": {
      "name": "python3",
      "display_name": "Python 3"
    }
  },
  "cells": [
    {
      "cell_type": "code",
      "metadata": {
        "id": "FtEpACqO7s6o"
      },
      "source": [
        "import pandas as pd\n",
        "import numpy as np\n",
        "from minisom import MiniSom\n",
        "from sklearn.preprocessing import MinMaxScaler"
      ],
      "execution_count": 22,
      "outputs": []
    },
    {
      "cell_type": "code",
      "metadata": {
        "colab": {
          "base_uri": "https://localhost:8080/",
          "height": 206
        },
        "id": "J2Wz6hq9-C88",
        "outputId": "6ee6c976-b887-4e0a-95b5-e4db6d712f97"
      },
      "source": [
        "dados = pd.read_csv('credit_data.csv')\n",
        "dados.head()"
      ],
      "execution_count": 91,
      "outputs": [
        {
          "output_type": "execute_result",
          "data": {
            "text/html": [
              "<div>\n",
              "<style scoped>\n",
              "    .dataframe tbody tr th:only-of-type {\n",
              "        vertical-align: middle;\n",
              "    }\n",
              "\n",
              "    .dataframe tbody tr th {\n",
              "        vertical-align: top;\n",
              "    }\n",
              "\n",
              "    .dataframe thead th {\n",
              "        text-align: right;\n",
              "    }\n",
              "</style>\n",
              "<table border=\"1\" class=\"dataframe\">\n",
              "  <thead>\n",
              "    <tr style=\"text-align: right;\">\n",
              "      <th></th>\n",
              "      <th>clientid</th>\n",
              "      <th>income</th>\n",
              "      <th>age</th>\n",
              "      <th>loan</th>\n",
              "      <th>default</th>\n",
              "    </tr>\n",
              "  </thead>\n",
              "  <tbody>\n",
              "    <tr>\n",
              "      <th>0</th>\n",
              "      <td>1</td>\n",
              "      <td>66155.925095</td>\n",
              "      <td>59.017015</td>\n",
              "      <td>8106.532131</td>\n",
              "      <td>0</td>\n",
              "    </tr>\n",
              "    <tr>\n",
              "      <th>1</th>\n",
              "      <td>2</td>\n",
              "      <td>34415.153966</td>\n",
              "      <td>48.117153</td>\n",
              "      <td>6564.745018</td>\n",
              "      <td>0</td>\n",
              "    </tr>\n",
              "    <tr>\n",
              "      <th>2</th>\n",
              "      <td>3</td>\n",
              "      <td>57317.170063</td>\n",
              "      <td>63.108049</td>\n",
              "      <td>8020.953296</td>\n",
              "      <td>0</td>\n",
              "    </tr>\n",
              "    <tr>\n",
              "      <th>3</th>\n",
              "      <td>4</td>\n",
              "      <td>42709.534201</td>\n",
              "      <td>45.751972</td>\n",
              "      <td>6103.642260</td>\n",
              "      <td>0</td>\n",
              "    </tr>\n",
              "    <tr>\n",
              "      <th>4</th>\n",
              "      <td>5</td>\n",
              "      <td>66952.688845</td>\n",
              "      <td>18.584336</td>\n",
              "      <td>8770.099235</td>\n",
              "      <td>1</td>\n",
              "    </tr>\n",
              "  </tbody>\n",
              "</table>\n",
              "</div>"
            ],
            "text/plain": [
              "   clientid        income        age         loan  default\n",
              "0         1  66155.925095  59.017015  8106.532131        0\n",
              "1         2  34415.153966  48.117153  6564.745018        0\n",
              "2         3  57317.170063  63.108049  8020.953296        0\n",
              "3         4  42709.534201  45.751972  6103.642260        0\n",
              "4         5  66952.688845  18.584336  8770.099235        1"
            ]
          },
          "metadata": {
            "tags": []
          },
          "execution_count": 91
        }
      ]
    },
    {
      "cell_type": "code",
      "metadata": {
        "colab": {
          "base_uri": "https://localhost:8080/"
        },
        "id": "FSS2KqPN-Xnv",
        "outputId": "f94cf0f6-5d59-4868-9783-17ad36c47f25"
      },
      "source": [
        "dados.isnull().sum()"
      ],
      "execution_count": 92,
      "outputs": [
        {
          "output_type": "execute_result",
          "data": {
            "text/plain": [
              "clientid    0\n",
              "income      0\n",
              "age         3\n",
              "loan        0\n",
              "default     0\n",
              "dtype: int64"
            ]
          },
          "metadata": {
            "tags": []
          },
          "execution_count": 92
        }
      ]
    },
    {
      "cell_type": "code",
      "metadata": {
        "colab": {
          "base_uri": "https://localhost:8080/",
          "height": 143
        },
        "id": "g7_QXiwWAODJ",
        "outputId": "0c94ff65-8394-434f-bc9d-a7d33aafb8cd"
      },
      "source": [
        "dados = dados.dropna()\n",
        "\n",
        "dados.loc[dados['age'] < 0].head()"
      ],
      "execution_count": 93,
      "outputs": [
        {
          "output_type": "execute_result",
          "data": {
            "text/html": [
              "<div>\n",
              "<style scoped>\n",
              "    .dataframe tbody tr th:only-of-type {\n",
              "        vertical-align: middle;\n",
              "    }\n",
              "\n",
              "    .dataframe tbody tr th {\n",
              "        vertical-align: top;\n",
              "    }\n",
              "\n",
              "    .dataframe thead th {\n",
              "        text-align: right;\n",
              "    }\n",
              "</style>\n",
              "<table border=\"1\" class=\"dataframe\">\n",
              "  <thead>\n",
              "    <tr style=\"text-align: right;\">\n",
              "      <th></th>\n",
              "      <th>clientid</th>\n",
              "      <th>income</th>\n",
              "      <th>age</th>\n",
              "      <th>loan</th>\n",
              "      <th>default</th>\n",
              "    </tr>\n",
              "  </thead>\n",
              "  <tbody>\n",
              "    <tr>\n",
              "      <th>15</th>\n",
              "      <td>16</td>\n",
              "      <td>50501.726689</td>\n",
              "      <td>-28.218361</td>\n",
              "      <td>3977.287432</td>\n",
              "      <td>0</td>\n",
              "    </tr>\n",
              "    <tr>\n",
              "      <th>21</th>\n",
              "      <td>22</td>\n",
              "      <td>32197.620701</td>\n",
              "      <td>-52.423280</td>\n",
              "      <td>4244.057136</td>\n",
              "      <td>0</td>\n",
              "    </tr>\n",
              "    <tr>\n",
              "      <th>26</th>\n",
              "      <td>27</td>\n",
              "      <td>63287.038908</td>\n",
              "      <td>-36.496976</td>\n",
              "      <td>9595.286289</td>\n",
              "      <td>0</td>\n",
              "    </tr>\n",
              "  </tbody>\n",
              "</table>\n",
              "</div>"
            ],
            "text/plain": [
              "    clientid        income        age         loan  default\n",
              "15        16  50501.726689 -28.218361  3977.287432        0\n",
              "21        22  32197.620701 -52.423280  4244.057136        0\n",
              "26        27  63287.038908 -36.496976  9595.286289        0"
            ]
          },
          "metadata": {
            "tags": []
          },
          "execution_count": 93
        }
      ]
    },
    {
      "cell_type": "code",
      "metadata": {
        "id": "gjYWviQ1AYXI"
      },
      "source": [
        "dados.loc[dados.age < 0, 'age'] = dados['age'].mean()"
      ],
      "execution_count": 94,
      "outputs": []
    },
    {
      "cell_type": "code",
      "metadata": {
        "id": "eLJSIBl-AeFH"
      },
      "source": [
        "X = dados.iloc[:,0:4].values\n",
        "Y = dados.iloc[:,4].values"
      ],
      "execution_count": 95,
      "outputs": []
    },
    {
      "cell_type": "code",
      "metadata": {
        "id": "C5U6NobSAsjt"
      },
      "source": [
        "scaler = MinMaxScaler(feature_range=(0,1))\n",
        "\n",
        "X = scaler.fit_transform(X)"
      ],
      "execution_count": 96,
      "outputs": []
    },
    {
      "cell_type": "markdown",
      "metadata": {
        "id": "4zNciJyBBWxx"
      },
      "source": [
        "$$  \\sqrt(\\sqrt size*5)  $$"
      ]
    },
    {
      "cell_type": "code",
      "metadata": {
        "colab": {
          "base_uri": "https://localhost:8080/"
        },
        "id": "lLz1J5uDA1rb",
        "outputId": "e6a3e633-b240-4f75-f6c8-a43b339be95c"
      },
      "source": [
        "print(np.sqrt(((np.sqrt(X.shape[0]))*5)))"
      ],
      "execution_count": 97,
      "outputs": [
        {
          "output_type": "stream",
          "text": [
            "14.947877097268472\n"
          ],
          "name": "stdout"
        }
      ]
    },
    {
      "cell_type": "code",
      "metadata": {
        "id": "Oz4cRWWdBSzU"
      },
      "source": [
        "som = MiniSom(x=15, y=15, input_len=4, random_seed=0)\n",
        "som.random_weights_init(X)\n",
        "som.train_random(data = X, num_iteration = 100)"
      ],
      "execution_count": 98,
      "outputs": []
    },
    {
      "cell_type": "code",
      "metadata": {
        "colab": {
          "base_uri": "https://localhost:8080/",
          "height": 269
        },
        "id": "4YzAO_98D95G",
        "outputId": "1cab124e-fcf8-42ab-bb5e-1599a56a3923"
      },
      "source": [
        "from pylab import plot, pcolor, colorbar\n",
        "\n",
        "pcolor(som.distance_map().T)\n",
        "colorbar()\n",
        "\n",
        "markers = ['o', 's']\n",
        "colors = ['r', 'blue']\n",
        "\n",
        "for i, x in enumerate(X):\n",
        "  w = som.winner(x)\n",
        "  plot(w[0]+0.5, w[1]+0.5, markers[Y[i]],\n",
        "       markerfacecolor = 'None', markersize = 10, \n",
        "       markeredgecolor = colors[Y[i]], markeredgewidth = 2)"
      ],
      "execution_count": 99,
      "outputs": [
        {
          "output_type": "display_data",
          "data": {
            "image/png": "[encoded data removed]",
            "text/plain": [
              "<Figure size 432x288 with 2 Axes>"
            ]
          },
          "metadata": {
            "tags": [],
            "needs_background": "light"
          }
        }
      ]
    },
    {
      "cell_type": "code",
      "metadata": {
        "id": "yHly0XZxKR3y"
      },
      "source": [
        "mapeamento = som.win_map(X)\n",
        "suspeitos = np.concatenate((mapeamento[(4,5)], mapeamento[(11,6)]), axis=0)\n",
        "suspeitos = scaler.inverse_transform(suspeitos)\n",
        "\n",
        "classe = []\n",
        "\n",
        "for i in range(len(dados)):\n",
        "  for j in range(len(suspeitos)):\n",
        "    if dados.iloc[i, 0] == int(round(suspeitos[j, 0])):\n",
        "      classe.append(dados.iloc[i, 4])\n",
        "\n",
        "classe = np.array(classe)\n",
        "\n",
        "suspeitos_final = np.column_stack((suspeitos, classe))\n",
        "suspeitos_final = suspeitos_final[suspeitos_final[:, 4].argsort()]"
      ],
      "execution_count": 103,
      "outputs": []
    },
    {
      "cell_type": "code",
      "metadata": {
        "colab": {
          "base_uri": "https://localhost:8080/",
          "height": 424
        },
        "id": "1vGOSXSlMS1O",
        "outputId": "6b33494a-92bf-4d6e-c565-9798554f7155"
      },
      "source": [
        "pd.DataFrame(suspeitos_final, columns=dados.columns)"
      ],
      "execution_count": 106,
      "outputs": [
        {
          "output_type": "execute_result",
          "data": {
            "text/html": [
              "<div>\n",
              "<style scoped>\n",
              "    .dataframe tbody tr th:only-of-type {\n",
              "        vertical-align: middle;\n",
              "    }\n",
              "\n",
              "    .dataframe tbody tr th {\n",
              "        vertical-align: top;\n",
              "    }\n",
              "\n",
              "    .dataframe thead th {\n",
              "        text-align: right;\n",
              "    }\n",
              "</style>\n",
              "<table border=\"1\" class=\"dataframe\">\n",
              "  <thead>\n",
              "    <tr style=\"text-align: right;\">\n",
              "      <th></th>\n",
              "      <th>clientid</th>\n",
              "      <th>income</th>\n",
              "      <th>age</th>\n",
              "      <th>loan</th>\n",
              "      <th>default</th>\n",
              "    </tr>\n",
              "  </thead>\n",
              "  <tbody>\n",
              "    <tr>\n",
              "      <th>0</th>\n",
              "      <td>821.0</td>\n",
              "      <td>65481.945551</td>\n",
              "      <td>45.038576</td>\n",
              "      <td>10614.248493</td>\n",
              "      <td>0.0</td>\n",
              "    </tr>\n",
              "    <tr>\n",
              "      <th>1</th>\n",
              "      <td>1110.0</td>\n",
              "      <td>27408.729615</td>\n",
              "      <td>37.691732</td>\n",
              "      <td>2591.028947</td>\n",
              "      <td>0.0</td>\n",
              "    </tr>\n",
              "    <tr>\n",
              "      <th>2</th>\n",
              "      <td>1615.0</td>\n",
              "      <td>27010.883768</td>\n",
              "      <td>36.609622</td>\n",
              "      <td>2373.175255</td>\n",
              "      <td>0.0</td>\n",
              "    </tr>\n",
              "    <tr>\n",
              "      <th>3</th>\n",
              "      <td>1123.0</td>\n",
              "      <td>23626.726789</td>\n",
              "      <td>34.293353</td>\n",
              "      <td>2173.767690</td>\n",
              "      <td>0.0</td>\n",
              "    </tr>\n",
              "    <tr>\n",
              "      <th>4</th>\n",
              "      <td>1599.0</td>\n",
              "      <td>30931.506020</td>\n",
              "      <td>35.882485</td>\n",
              "      <td>1074.787904</td>\n",
              "      <td>0.0</td>\n",
              "    </tr>\n",
              "    <tr>\n",
              "      <th>...</th>\n",
              "      <td>...</td>\n",
              "      <td>...</td>\n",
              "      <td>...</td>\n",
              "      <td>...</td>\n",
              "      <td>...</td>\n",
              "    </tr>\n",
              "    <tr>\n",
              "      <th>78</th>\n",
              "      <td>1305.0</td>\n",
              "      <td>22372.505236</td>\n",
              "      <td>31.493050</td>\n",
              "      <td>1118.926064</td>\n",
              "      <td>1.0</td>\n",
              "    </tr>\n",
              "    <tr>\n",
              "      <th>79</th>\n",
              "      <td>1362.0</td>\n",
              "      <td>24061.463161</td>\n",
              "      <td>34.511520</td>\n",
              "      <td>3980.578783</td>\n",
              "      <td>1.0</td>\n",
              "    </tr>\n",
              "    <tr>\n",
              "      <th>80</th>\n",
              "      <td>1374.0</td>\n",
              "      <td>31396.866012</td>\n",
              "      <td>34.996681</td>\n",
              "      <td>3719.230135</td>\n",
              "      <td>1.0</td>\n",
              "    </tr>\n",
              "    <tr>\n",
              "      <th>81</th>\n",
              "      <td>1454.0</td>\n",
              "      <td>28630.009508</td>\n",
              "      <td>27.291530</td>\n",
              "      <td>4406.995056</td>\n",
              "      <td>1.0</td>\n",
              "    </tr>\n",
              "    <tr>\n",
              "      <th>82</th>\n",
              "      <td>1967.0</td>\n",
              "      <td>21982.017374</td>\n",
              "      <td>34.915516</td>\n",
              "      <td>4265.173704</td>\n",
              "      <td>1.0</td>\n",
              "    </tr>\n",
              "  </tbody>\n",
              "</table>\n",
              "<p>83 rows × 5 columns</p>\n",
              "</div>"
            ],
            "text/plain": [
              "    clientid        income        age          loan  default\n",
              "0      821.0  65481.945551  45.038576  10614.248493      0.0\n",
              "1     1110.0  27408.729615  37.691732   2591.028947      0.0\n",
              "2     1615.0  27010.883768  36.609622   2373.175255      0.0\n",
              "3     1123.0  23626.726789  34.293353   2173.767690      0.0\n",
              "4     1599.0  30931.506020  35.882485   1074.787904      0.0\n",
              "..       ...           ...        ...           ...      ...\n",
              "78    1305.0  22372.505236  31.493050   1118.926064      1.0\n",
              "79    1362.0  24061.463161  34.511520   3980.578783      1.0\n",
              "80    1374.0  31396.866012  34.996681   3719.230135      1.0\n",
              "81    1454.0  28630.009508  27.291530   4406.995056      1.0\n",
              "82    1967.0  21982.017374  34.915516   4265.173704      1.0\n",
              "\n",
              "[83 rows x 5 columns]"
            ]
          },
          "metadata": {
            "tags": []
          },
          "execution_count": 106
        }
      ]
    }
  ]
}